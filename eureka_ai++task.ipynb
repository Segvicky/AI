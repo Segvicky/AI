{
 "cells": [
  {
   "cell_type": "code",
   "execution_count": 1,
   "metadata": {
    "collapsed": true
   },
   "outputs": [],
   "source": [
    "import pandas as pd\n",
    "import numpy as np\n",
    "from pprint import pprint\n",
    "import collections\n",
    "from collections import Counter\n",
    "import math\n"
   ]
  },
  {
   "cell_type": "code",
   "execution_count": 2,
   "metadata": {
    "collapsed": false
   },
   "outputs": [
    {
     "name": "stderr",
     "output_type": "stream",
     "text": [
      "C:\\Users\\Omotayo\\Anaconda2\\lib\\site-packages\\IPython\\core\\interactiveshell.py:2717: DtypeWarning: Columns (2) have mixed types. Specify dtype option on import or set low_memory=False.\n",
      "  interactivity=interactivity, compiler=compiler, result=result)\n"
     ]
    }
   ],
   "source": [
    "dataset = pd.read_csv('C:\\\\Users\\\\Omotayo\\\\.spyder\\\\sed\\\\wdpa.csv')"
   ]
  },
  {
   "cell_type": "code",
   "execution_count": 3,
   "metadata": {
    "collapsed": false
   },
   "outputs": [
    {
     "data": {
      "text/html": [
       "<div>\n",
       "<style>\n",
       "    .dataframe thead tr:only-child th {\n",
       "        text-align: right;\n",
       "    }\n",
       "\n",
       "    .dataframe thead th {\n",
       "        text-align: left;\n",
       "    }\n",
       "\n",
       "    .dataframe tbody tr th {\n",
       "        vertical-align: top;\n",
       "    }\n",
       "</style>\n",
       "<table border=\"1\" class=\"dataframe\">\n",
       "  <thead>\n",
       "    <tr style=\"text-align: right;\">\n",
       "      <th></th>\n",
       "      <th>TYPE</th>\n",
       "      <th>WDPAID</th>\n",
       "      <th>WDPA_PID</th>\n",
       "      <th>PA_DEF</th>\n",
       "      <th>NAME</th>\n",
       "      <th>ORIG_NAME</th>\n",
       "      <th>DESIG</th>\n",
       "      <th>DESIG_ENG</th>\n",
       "      <th>DESIG_TYPE</th>\n",
       "      <th>IUCN_CAT</th>\n",
       "      <th>...</th>\n",
       "      <th>STATUS_YR</th>\n",
       "      <th>GOV_TYPE</th>\n",
       "      <th>OWN_TYPE</th>\n",
       "      <th>MANG_AUTH</th>\n",
       "      <th>MANG_PLAN</th>\n",
       "      <th>VERIF</th>\n",
       "      <th>METADATAID</th>\n",
       "      <th>SUB_LOC</th>\n",
       "      <th>PARENT_ISO3</th>\n",
       "      <th>ISO3</th>\n",
       "    </tr>\n",
       "  </thead>\n",
       "  <tbody>\n",
       "    <tr>\n",
       "      <th>0</th>\n",
       "      <td>Polygon</td>\n",
       "      <td>478191</td>\n",
       "      <td>478191</td>\n",
       "      <td>1</td>\n",
       "      <td>South Orkney Islands Southern Shelf Marine Pro...</td>\n",
       "      <td>South Orkney Islands Southern Shelf Marine Pro...</td>\n",
       "      <td>Marine Protected Area (CCAMLR)</td>\n",
       "      <td>Marine Protected Area (CCAMLR)</td>\n",
       "      <td>Regional</td>\n",
       "      <td>Not Reported</td>\n",
       "      <td>...</td>\n",
       "      <td>2010</td>\n",
       "      <td>Joint governance</td>\n",
       "      <td>Not Reported</td>\n",
       "      <td>Commission for the Convention on Conservation ...</td>\n",
       "      <td>Not Reported</td>\n",
       "      <td>Not Reported</td>\n",
       "      <td>832</td>\n",
       "      <td>Marine</td>\n",
       "      <td>ABNJ</td>\n",
       "      <td>ABNJ</td>\n",
       "    </tr>\n",
       "    <tr>\n",
       "      <th>1</th>\n",
       "      <td>Polygon</td>\n",
       "      <td>555512236</td>\n",
       "      <td>555512236</td>\n",
       "      <td>1</td>\n",
       "      <td>Antialtair Seamount High Seas MPA</td>\n",
       "      <td>Antialtair Seamount High Seas MPA</td>\n",
       "      <td>Marine Protected Area (OSPAR)</td>\n",
       "      <td>Marine Protected Area (OSPAR)</td>\n",
       "      <td>Regional</td>\n",
       "      <td>Not Reported</td>\n",
       "      <td>...</td>\n",
       "      <td>2010</td>\n",
       "      <td>Collaborative governance</td>\n",
       "      <td>Not Reported</td>\n",
       "      <td>OSPAR Commission/Contracting Parties; other Cas</td>\n",
       "      <td>Not Reported</td>\n",
       "      <td>State Verified</td>\n",
       "      <td>883</td>\n",
       "      <td>Not Reported</td>\n",
       "      <td>ABNJ</td>\n",
       "      <td>ABNJ</td>\n",
       "    </tr>\n",
       "    <tr>\n",
       "      <th>2</th>\n",
       "      <td>Polygon</td>\n",
       "      <td>555512237</td>\n",
       "      <td>555512237</td>\n",
       "      <td>1</td>\n",
       "      <td>Altair Seamount High Seas MPA</td>\n",
       "      <td>Altair Seamount High Seas MPA</td>\n",
       "      <td>Marine Protected Area (OSPAR)</td>\n",
       "      <td>Marine Protected Area (OSPAR)</td>\n",
       "      <td>Regional</td>\n",
       "      <td>Not Reported</td>\n",
       "      <td>...</td>\n",
       "      <td>2010</td>\n",
       "      <td>Collaborative governance</td>\n",
       "      <td>Not Reported</td>\n",
       "      <td>OSPAR Commission/Contracting Parties; other Cas</td>\n",
       "      <td>Not Reported</td>\n",
       "      <td>State Verified</td>\n",
       "      <td>883</td>\n",
       "      <td>Not Reported</td>\n",
       "      <td>ABNJ</td>\n",
       "      <td>ABNJ</td>\n",
       "    </tr>\n",
       "    <tr>\n",
       "      <th>3</th>\n",
       "      <td>Polygon</td>\n",
       "      <td>555512238</td>\n",
       "      <td>555512238</td>\n",
       "      <td>1</td>\n",
       "      <td>Josephine Seamount High Seas MPA\\r\\n</td>\n",
       "      <td>Josephine Seamount High Seas MPA\\r\\n</td>\n",
       "      <td>Marine Protected Area (OSPAR)</td>\n",
       "      <td>Marine Protected Area (OSPAR)</td>\n",
       "      <td>Regional</td>\n",
       "      <td>Not Reported</td>\n",
       "      <td>...</td>\n",
       "      <td>2010</td>\n",
       "      <td>Collaborative governance</td>\n",
       "      <td>Not Reported</td>\n",
       "      <td>OSPAR Commission/Contracting Parties; other Cas</td>\n",
       "      <td>Not Reported</td>\n",
       "      <td>State Verified</td>\n",
       "      <td>883</td>\n",
       "      <td>Not Reported</td>\n",
       "      <td>ABNJ</td>\n",
       "      <td>ABNJ</td>\n",
       "    </tr>\n",
       "    <tr>\n",
       "      <th>4</th>\n",
       "      <td>Polygon</td>\n",
       "      <td>555512240</td>\n",
       "      <td>555512240</td>\n",
       "      <td>1</td>\n",
       "      <td>MAR North of the Azores High Seas MPA</td>\n",
       "      <td>MAR North of the Azores High Seas MPA</td>\n",
       "      <td>Marine Protected Area (OSPAR)</td>\n",
       "      <td>Marine Protected Area (OSPAR)</td>\n",
       "      <td>Regional</td>\n",
       "      <td>Not Reported</td>\n",
       "      <td>...</td>\n",
       "      <td>2010</td>\n",
       "      <td>Collaborative governance</td>\n",
       "      <td>Not Reported</td>\n",
       "      <td>OSPAR Commission/Contracting Parties; other Cas</td>\n",
       "      <td>Not Reported</td>\n",
       "      <td>State Verified</td>\n",
       "      <td>883</td>\n",
       "      <td>Not Reported</td>\n",
       "      <td>ABNJ</td>\n",
       "      <td>ABNJ</td>\n",
       "    </tr>\n",
       "  </tbody>\n",
       "</table>\n",
       "<p>5 rows × 29 columns</p>\n",
       "</div>"
      ],
      "text/plain": [
       "      TYPE     WDPAID   WDPA_PID  PA_DEF  \\\n",
       "0  Polygon     478191     478191       1   \n",
       "1  Polygon  555512236  555512236       1   \n",
       "2  Polygon  555512237  555512237       1   \n",
       "3  Polygon  555512238  555512238       1   \n",
       "4  Polygon  555512240  555512240       1   \n",
       "\n",
       "                                                NAME  \\\n",
       "0  South Orkney Islands Southern Shelf Marine Pro...   \n",
       "1                  Antialtair Seamount High Seas MPA   \n",
       "2                      Altair Seamount High Seas MPA   \n",
       "3               Josephine Seamount High Seas MPA\\r\\n   \n",
       "4              MAR North of the Azores High Seas MPA   \n",
       "\n",
       "                                           ORIG_NAME  \\\n",
       "0  South Orkney Islands Southern Shelf Marine Pro...   \n",
       "1                  Antialtair Seamount High Seas MPA   \n",
       "2                      Altair Seamount High Seas MPA   \n",
       "3               Josephine Seamount High Seas MPA\\r\\n   \n",
       "4              MAR North of the Azores High Seas MPA   \n",
       "\n",
       "                            DESIG                       DESIG_ENG DESIG_TYPE  \\\n",
       "0  Marine Protected Area (CCAMLR)  Marine Protected Area (CCAMLR)   Regional   \n",
       "1   Marine Protected Area (OSPAR)   Marine Protected Area (OSPAR)   Regional   \n",
       "2   Marine Protected Area (OSPAR)   Marine Protected Area (OSPAR)   Regional   \n",
       "3   Marine Protected Area (OSPAR)   Marine Protected Area (OSPAR)   Regional   \n",
       "4   Marine Protected Area (OSPAR)   Marine Protected Area (OSPAR)   Regional   \n",
       "\n",
       "       IUCN_CAT  ...  STATUS_YR                  GOV_TYPE      OWN_TYPE  \\\n",
       "0  Not Reported  ...       2010          Joint governance  Not Reported   \n",
       "1  Not Reported  ...       2010  Collaborative governance  Not Reported   \n",
       "2  Not Reported  ...       2010  Collaborative governance  Not Reported   \n",
       "3  Not Reported  ...       2010  Collaborative governance  Not Reported   \n",
       "4  Not Reported  ...       2010  Collaborative governance  Not Reported   \n",
       "\n",
       "                                           MANG_AUTH     MANG_PLAN  \\\n",
       "0  Commission for the Convention on Conservation ...  Not Reported   \n",
       "1    OSPAR Commission/Contracting Parties; other Cas  Not Reported   \n",
       "2    OSPAR Commission/Contracting Parties; other Cas  Not Reported   \n",
       "3    OSPAR Commission/Contracting Parties; other Cas  Not Reported   \n",
       "4    OSPAR Commission/Contracting Parties; other Cas  Not Reported   \n",
       "\n",
       "            VERIF METADATAID       SUB_LOC PARENT_ISO3  ISO3  \n",
       "0    Not Reported        832        Marine        ABNJ  ABNJ  \n",
       "1  State Verified        883  Not Reported        ABNJ  ABNJ  \n",
       "2  State Verified        883  Not Reported        ABNJ  ABNJ  \n",
       "3  State Verified        883  Not Reported        ABNJ  ABNJ  \n",
       "4  State Verified        883  Not Reported        ABNJ  ABNJ  \n",
       "\n",
       "[5 rows x 29 columns]"
      ]
     },
     "execution_count": 3,
     "metadata": {},
     "output_type": "execute_result"
    }
   ],
   "source": [
    "dataset.head()"
   ]
  },
  {
   "cell_type": "code",
   "execution_count": 4,
   "metadata": {
    "collapsed": false
   },
   "outputs": [
    {
     "data": {
      "text/plain": [
       "Index([u'TYPE', u'WDPAID', u'WDPA_PID', u'PA_DEF', u'NAME', u'ORIG_NAME',\n",
       "       u'DESIG', u'DESIG_ENG', u'DESIG_TYPE', u'IUCN_CAT', u'INT_CRIT',\n",
       "       u'MARINE', u'REP_M_AREA', u'GIS_M_AREA', u'REP_AREA', u'GIS_AREA',\n",
       "       u'NO_TAKE', u'NO_TK_AREA', u'STATUS', u'STATUS_YR', u'GOV_TYPE',\n",
       "       u'OWN_TYPE', u'MANG_AUTH', u'MANG_PLAN', u'VERIF', u'METADATAID',\n",
       "       u'SUB_LOC', u'PARENT_ISO3', u'ISO3'],\n",
       "      dtype='object')"
      ]
     },
     "execution_count": 4,
     "metadata": {},
     "output_type": "execute_result"
    }
   ],
   "source": [
    "dataset.columns"
   ]
  },
  {
   "cell_type": "code",
   "execution_count": 5,
   "metadata": {
    "collapsed": true
   },
   "outputs": [],
   "source": [
    "def entropy(target_col):\n",
    "    elements, counts = np.unique(target_col,return_counts =True)\n",
    "    entropy = np.sum([(-counts[i]/np.sum(counts))*np.log2(counts[i]/np.sum(counts)) for i in range(len(elements))])\n",
    "    return entropy  \n",
    "    \n",
    "def ent(data):\n",
    "    uniqw, inverse = np.unique(data, return_inverse=True)\n",
    "    p_data= np.bincount(inverse)/len(data) # calculates the probabilities\n",
    "    ent=entropy(p_data)  # input probabilities to get the entropy\n",
    "    return ent\n"
   ]
  },
  {
   "cell_type": "code",
   "execution_count": 7,
   "metadata": {
    "collapsed": false
   },
   "outputs": [
    {
     "data": {
      "text/plain": [
       "0.0"
      ]
     },
     "execution_count": 7,
     "metadata": {},
     "output_type": "execute_result"
    }
   ],
   "source": [
    "#applying this function ent on one of the features. I chose this because it has variables that can be mapped(1,0)\n",
    "ent(dataset['VERIF']). "
   ]
  },
  {
   "cell_type": "code",
   "execution_count": 8,
   "metadata": {
    "collapsed": false
   },
   "outputs": [
    {
     "data": {
      "text/plain": [
       "0.0"
      ]
     },
     "execution_count": 8,
     "metadata": {},
     "output_type": "execute_result"
    }
   ],
   "source": [
    "#applying it to the STATUS' feature\n",
    "ent(dataset['STATUS'])\n"
   ]
  },
  {
   "cell_type": "code",
   "execution_count": null,
   "metadata": {
    "collapsed": true
   },
   "outputs": [],
   "source": []
  }
 ],
 "metadata": {
  "anaconda-cloud": {},
  "kernelspec": {
   "display_name": "Python [conda root]",
   "language": "python",
   "name": "conda-root-py"
  },
  "language_info": {
   "codemirror_mode": {
    "name": "ipython",
    "version": 2
   },
   "file_extension": ".py",
   "mimetype": "text/x-python",
   "name": "python",
   "nbconvert_exporter": "python",
   "pygments_lexer": "ipython2",
   "version": "2.7.12"
  }
 },
 "nbformat": 4,
 "nbformat_minor": 1
}
